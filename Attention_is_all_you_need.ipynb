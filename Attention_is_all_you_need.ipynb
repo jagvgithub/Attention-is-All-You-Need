{
  "nbformat": 4,
  "nbformat_minor": 0,
  "metadata": {
    "colab": {
      "provenance": [],
      "authorship_tag": "ABX9TyP4tjf4ok7bVKujAct9AHpu",
      "include_colab_link": true
    },
    "kernelspec": {
      "name": "python3",
      "display_name": "Python 3"
    },
    "language_info": {
      "name": "python"
    }
  },
  "cells": [
    {
      "cell_type": "markdown",
      "metadata": {
        "id": "view-in-github",
        "colab_type": "text"
      },
      "source": [
        "<a href=\"https://colab.research.google.com/github/jagvgithub/Attention-is-All-You-Need/blob/main/Attention_is_all_you_need.ipynb\" target=\"_parent\"><img src=\"https://colab.research.google.com/assets/colab-badge.svg\" alt=\"Open In Colab\"/></a>"
      ]
    },
    {
      "cell_type": "markdown",
      "source": [
        "# Jose Antonio Gómez Vargas\n",
        "\n",
        "## Redes neuronales y Deep Learning"
      ],
      "metadata": {
        "id": "ZLQZR6GP_Y1a"
      }
    },
    {
      "cell_type": "code",
      "source": [
        "import tensorflow as tf\n",
        "from tensorflow.keras.layers import LayerNormalization, Dense, Embedding, Dropout\n",
        "\n",
        "# Mecanismo de atención escalada por producto punto\n",
        "def scaled_dot_product_attention(q, k, v, mask):\n",
        "    matmul_qk = tf.matmul(q, k, transpose_b=True)\n",
        "    dk = tf.cast(tf.shape(k)[-1], tf.float32)\n",
        "    scaled_attention_logits = matmul_qk / tf.math.sqrt(dk)\n",
        "\n",
        "    if mask is not None:\n",
        "        scaled_attention_logits += (mask * -1e9)\n",
        "\n",
        "    attention_weights = tf.nn.softmax(scaled_attention_logits, axis=-1)\n",
        "    output = tf.matmul(attention_weights, v)\n",
        "    return output, attention_weights\n",
        "\n",
        "# Capa de atención multi-cabeza\n",
        "class MultiHeadAttention(tf.keras.layers.Layer):\n",
        "    def __init__(self, d_model, num_heads):\n",
        "        super(MultiHeadAttention, self).__init__()\n",
        "        self.num_heads = num_heads\n",
        "        self.d_model = d_model\n",
        "\n",
        "        assert d_model % self.num_heads == 0\n",
        "\n",
        "        self.depth = d_model // self.num_heads\n",
        "        self.wq = Dense(d_model)\n",
        "        self.wk = Dense(d_model)\n",
        "        self.wv = Dense(d_model)\n",
        "        self.dense = Dense(d_model)\n",
        "\n",
        "    def split_heads(self, x, batch_size):\n",
        "        x = tf.reshape(x, (batch_size, -1, self.num_heads, self.depth))\n",
        "        return tf.transpose(x, perm=[0, 2, 1, 3])\n",
        "\n",
        "    def call(self, v, k, q, mask):\n",
        "        batch_size = tf.shape(q)[0]\n",
        "\n",
        "        q = self.wq(q)\n",
        "        k = self.wk(k)\n",
        "        v = self.wv(v)\n",
        "\n",
        "        q = self.split_heads(q, batch_size)\n",
        "        k = self.split_heads(k, batch_size)\n",
        "        v = self.split_heads(v, batch_size)\n",
        "\n",
        "        scaled_attention, attention_weights = scaled_dot_product_attention(q, k, v, mask)\n",
        "\n",
        "        scaled_attention = tf.transpose(scaled_attention, perm=[0, 2, 1, 3])\n",
        "        concat_attention = tf.reshape(scaled_attention, (batch_size, -1, self.d_model))\n",
        "\n",
        "        output = self.dense(concat_attention)\n",
        "        return output, attention_weights\n",
        "\n",
        "# Codificación Posicional\n",
        "class PositionalEncoding(tf.keras.layers.Layer):\n",
        "    def __init__(self, position, d_model):\n",
        "        super(PositionalEncoding, self).__init__()\n",
        "        self.pos_encoding = self.positional_encoding(position, d_model)\n",
        "\n",
        "    def positional_encoding(self, position, d_model):\n",
        "        angle_rads = self.get_angles(\n",
        "            tf.range(position)[:, tf.newaxis],\n",
        "            tf.range(d_model)[tf.newaxis, :],\n",
        "            d_model\n",
        "        )\n",
        "        angle_rads[:, 0::2] = tf.math.sin(angle_rads[:, 0::2])\n",
        "        angle_rads[:, 1::2] = tf.math.cos(angle_rads[:, 1::2])\n",
        "        return tf.cast(angle_rads[tf.newaxis, ...], dtype=tf.float32)\n",
        "\n",
        "    def get_angles(self, pos, i, d_model):\n",
        "        angle_rates = 1 / tf.pow(10000, (2 * (i // 2)) / tf.cast(d_model, tf.float32))\n",
        "        return pos * angle_rates\n",
        "\n",
        "    def call(self, inputs):\n",
        "        return inputs + self.pos_encoding[:, :tf.shape(inputs)[1], :]\n",
        "\n",
        "# Red completa (simplificada)\n",
        "def transformer(vocab_size, num_layers, units, d_model, num_heads, dropout_rate):\n",
        "    inputs = tf.keras.layers.Input(shape=(None,))\n",
        "    enc_padding_mask = None  # Se define una máscara si es necesario\n",
        "    dec_padding_mask = None  # Se define una máscara si es necesario\n",
        "\n",
        "    # Codificación de entradas\n",
        "    enc_output = Embedding(vocab_size, d_model)(inputs)\n",
        "    enc_output = PositionalEncoding(vocab_size, d_model)(enc_output)\n",
        "\n",
        "    # Capas del encoder\n",
        "    for _ in range(num_layers):\n",
        "        enc_output, _ = MultiHeadAttention(d_model, num_heads)(enc_output, enc_output, enc_output, enc_padding_mask)\n",
        "        enc_output = Dropout(dropout_rate)(enc_output)\n",
        "        enc_output = LayerNormalization(epsilon=1e-6)(enc_output)\n",
        "\n",
        "    # Modelo final\n",
        "    outputs = Dense(vocab_size)(enc_output)\n",
        "    model = tf.keras.Model(inputs=inputs, outputs=outputs)\n",
        "\n",
        "    return model\n",
        "\n",
        "# Ejemplo de compilación del modelo\n",
        "sample_transformer = transformer(\n",
        "    vocab_size=8500,\n",
        "    num_layers=6,\n",
        "    units=2048,\n",
        "    d_model=512,\n",
        "    num_heads=8,\n",
        "    dropout_rate=0.1\n",
        ")\n",
        "\n",
        "sample_transformer.compile(optimizer='adam', loss='sparse_categorical_crossentropy')\n",
        "sample_transformer.summary()\n"
      ],
      "metadata": {
        "id": "i0cs_XHP_zvs"
      },
      "execution_count": null,
      "outputs": []
    },
    {
      "cell_type": "markdown",
      "source": [
        "---\n",
        "Cierre del ejercicio\n",
        "\n",
        "---\n",
        "\n"
      ],
      "metadata": {
        "id": "RlgCMeMo_4MJ"
      }
    }
  ]
}